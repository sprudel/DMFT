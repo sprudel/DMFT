{
 "cells": [
  {
   "cell_type": "code",
   "execution_count": null,
   "metadata": {
    "collapsed": false,
    "scrolled": false
   },
   "outputs": [],
   "source": [
    "%pylab inline"
   ]
  },
  {
   "cell_type": "code",
   "execution_count": null,
   "metadata": {
    "collapsed": true
   },
   "outputs": [],
   "source": [
    "beta = 100. # inverse temperature\n",
    "t = 1. # energy scale for cubic lattice\n",
    "D = 1. # energy scale for bethe lattice"
   ]
  },
  {
   "cell_type": "markdown",
   "metadata": {},
   "source": [
    "Loading DMFTlib module:"
   ]
  },
  {
   "cell_type": "code",
   "execution_count": null,
   "metadata": {
    "collapsed": false
   },
   "outputs": [],
   "source": [
    "import DMFTlib\n",
    "DMFTlib.initialize(beta_value=beta, bethe_lattice_D=D)"
   ]
  },
  {
   "cell_type": "code",
   "execution_count": null,
   "metadata": {
    "collapsed": false
   },
   "outputs": [],
   "source": [
    "N = 10000 # number of imaginary frequencies\n",
    "tau = DMFTlib.matsubara_time(N) # discrete points in imaginary time\n",
    "dtau = beta/N\n",
    "freq = DMFTlib.matsubara_freq(N) # matsubara frequencies, ordered according to np.fft"
   ]
  },
  {
   "cell_type": "code",
   "execution_count": null,
   "metadata": {
    "collapsed": false,
    "scrolled": false
   },
   "outputs": [],
   "source": [
    "U_list = np.linspace(1,4,7)\n",
    "numiter = 3200\n",
    "\n",
    "from multiprocessing import Pool\n",
    "def calculate(U):\n",
    "    if U>2.5 and U<3.5: #increase iteration near phase transition\n",
    "        return DMFTlib.DMFT_loop(G0,U,iterations=numiter*1000,frac_new=0.99)[1]\n",
    "    else:\n",
    "        return DMFTlib.DMFT_loop(G0,U,iterations=numiter,frac_new=0.99)[1]\n",
    "    \n",
    "# fit various Green's functions and plot the spectral function\n",
    "G0 = 1. / ( 1j*freq + 2. )\n",
    "\n",
    "p = Pool(8)\n",
    "\n",
    "\n",
    "Glocs = p.map(calculate,U_list)\n",
    "p.terminate()"
   ]
  },
  {
   "cell_type": "code",
   "execution_count": null,
   "metadata": {
    "collapsed": false
   },
   "outputs": [],
   "source": [
    "plt.rc('text', usetex=True)\n",
    "plt.rc('font', family='sans-serif')\n",
    "eta = 1e-16\n",
    "plot_freq = np.linspace(-5.,5.,1001)\n",
    "my_freq = plot_freq +  eta*1j\n",
    "\n",
    "n = len(Glocs)\n",
    "fig, ax = plt.subplots(n, sharex=True, sharey=True, figsize=(10,2*n))\n",
    "for index, gf in enumerate(Glocs):\n",
    "    padeapp = DMFTlib.PadeApproximation(1j*freq,gf,cut_freq=1.,use_every=3)\n",
    "    spectral_func = -padeapp(my_freq,norm=0.1).imag/np.pi\n",
    " \n",
    "    ax[index].plot(plot_freq,spectral_func,'-',label=\"U/D={}\".format(U_list[index]))\n",
    "    ax[index].set_ylim(0,0.75)\n",
    "    ax[index].set_xlim(-5.,5.)\n",
    "    ax[index].legend(frameon=False)\n",
    "    ax[index].set_xlabel(\"$\\omega$\")\n",
    "    ax[index].set_ylabel(\"$A(\\omega)$\")\n",
    "fig.subplots_adjust(hspace=0)\n",
    "ax[0].set_title(\"Spectral Function\")\n",
    "\n",
    "plt.savefig(\"Mott_transition.pdf\",bbox_inches='tight')\n"
   ]
  }
 ],
 "metadata": {
  "kernelspec": {
   "display_name": "Python 3",
   "language": "python",
   "name": "python3"
  },
  "language_info": {
   "codemirror_mode": {
    "name": "ipython",
    "version": 3
   },
   "file_extension": ".py",
   "mimetype": "text/x-python",
   "name": "python",
   "nbconvert_exporter": "python",
   "pygments_lexer": "ipython3",
   "version": "3.5.0"
  }
 },
 "nbformat": 4,
 "nbformat_minor": 0
}
