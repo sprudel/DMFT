{
 "cells": [
  {
   "cell_type": "markdown",
   "metadata": {},
   "source": [
    "This file contains the whole DMFT loop with its helper functions and the Padé approximation for analytic continuation"
   ]
  },
  {
   "cell_type": "code",
   "execution_count": 1,
   "metadata": {
    "collapsed": true
   },
   "outputs": [],
   "source": [
    "import numpy as np"
   ]
  },
  {
   "cell_type": "code",
   "execution_count": 2,
   "metadata": {
    "collapsed": true
   },
   "outputs": [],
   "source": [
    "def initialize(beta_value=100.,bethe_lattice_D=1.):\n",
    "    global beta\n",
    "    global D\n",
    "    beta = beta_value\n",
    "    D = bethe_lattice_D"
   ]
  },
  {
   "cell_type": "markdown",
   "metadata": {},
   "source": [
    "## Matsubara Fouriertransforms"
   ]
  },
  {
   "cell_type": "code",
   "execution_count": 3,
   "metadata": {
    "collapsed": true
   },
   "outputs": [],
   "source": [
    "def matsubara_time(N):\n",
    "    return np.linspace(0,beta*(1.-1./N),N) # discrete points in imaginary time\n",
    "#definition of FourierTransforms\n",
    "def matsubara_fft_naiv(G_tau):\n",
    "    global beta\n",
    "    N = G_tau.shape[0]\n",
    "    k = np.arange(N, dtype='float')\n",
    "    return beta/N*np.fft.fft(G_tau*np.exp(1j*np.pi*k/N))\n",
    "def matsubara_fft(G_tau):\n",
    "    global beta\n",
    "    N = G_tau.shape[0]\n",
    "    freq = matsubara_freq(N)\n",
    "    k = np.arange(N, dtype='float')\n",
    "    return beta/N*np.fft.fft( (G_tau+0.5) *np.exp(1j*np.pi*k/N)) + 1./(1j*freq)\n",
    "#numpy orders frequencies differently so one has to convert frequencies\n",
    "def matsubara_freq(N):\n",
    "    global beta\n",
    "    return np.pi/beta *( np.array(-2*N*np.fft.fftfreq(N),dtype=np.float128) +1.)\n",
    "def matsubara_ifft_naiv(G_omega):\n",
    "    global beta\n",
    "    N = G_omega.shape[0]\n",
    "    k = np.arange(N,dtype='float')\n",
    "    return N/beta*np.exp(-1j*np.pi*k/N)*np.fft.ifft(G_omega)\n",
    "def matsubara_ifft(G_omega):\n",
    "    global beta\n",
    "    N = G_omega.shape[0]\n",
    "    freq = matsubara_freq(N)\n",
    "    k = np.arange(N,dtype='float')\n",
    "    return -1/2+N/beta*np.exp(-1j*np.pi*k/N)*np.fft.ifft(G_omega-1./(1j*freq) )"
   ]
  },
  {
   "cell_type": "markdown",
   "metadata": {},
   "source": [
    "## Second order perturbation theory\n",
    "Self energy:"
   ]
  },
  {
   "cell_type": "code",
   "execution_count": 4,
   "metadata": {
    "collapsed": true
   },
   "outputs": [],
   "source": [
    "# second order self energy diagram\n",
    "def self_energy(G0_omega,U):\n",
    "    G0_tau = matsubara_ifft(G0_omega)\n",
    "    G0_minus_tau = -np.roll(G0_tau[::-1],1)\n",
    "    G0_minus_tau[0] = -G0_minus_tau[0]\n",
    "    sigma_tau = -U*U * G0_tau*G0_tau * G0_minus_tau\n",
    "    return matsubara_fft(sigma_tau)"
   ]
  },
  {
   "cell_type": "markdown",
   "metadata": {},
   "source": [
    "## Local Greensfunction\n",
    "compute local Green's function from self energy given a disperion / density of states.\n",
    "Here we use dispersion relation of Bethe lattice."
   ]
  },
  {
   "cell_type": "code",
   "execution_count": 5,
   "metadata": {
    "collapsed": true
   },
   "outputs": [],
   "source": [
    "from scipy.integrate import simps\n",
    "#density of states for Bethe lattice\n",
    "def dos_bethe(e): \n",
    "    return 2./(np.pi*D)*np.sqrt(1.-(e/D)**2)\n",
    "\n",
    "def Gloc_omega(self_energy_omega):\n",
    "    #we use same resultion of energies as for matsubara frequencies\n",
    "    N = self_energy_omega.shape[0]\n",
    "    energies_bethe = np.linspace(-D,D,N)\n",
    "    denergies_bethe = energies_bethe[2] - energies_bethe[1]\n",
    "    freq = matsubara_freq(N)\n",
    "    return simps( dos_bethe(energies_bethe)/(1j*freq[:,np.newaxis]-energies_bethe-self_energy_omega[:,np.newaxis]) ,dx=denergies_bethe)"
   ]
  },
  {
   "cell_type": "markdown",
   "metadata": {},
   "source": [
    "## DMFT Loop"
   ]
  },
  {
   "cell_type": "code",
   "execution_count": 6,
   "metadata": {
    "collapsed": true
   },
   "outputs": [],
   "source": [
    "def DMFT_loop(G0_initial_omega,U,iterations=1,frac_new=1.):\n",
    "    G0_omega= G0_initial_omega\n",
    "    N = G0_initial_omega.shape[0]\n",
    "    for i in range(iterations):\n",
    "        self_e = self_energy(G0_omega,U)\n",
    "        Gloc = Gloc_omega(self_e)\n",
    "        freq = matsubara_freq(N)\n",
    "        #G0_omega = frac_new * 1./(1./Gloc+self_e) + (1.-frac_new) * G0_omega\n",
    "        G0_omega = frac_new/( 1j*freq - 0.25*D*D* Gloc ) + (1.-frac_new) * G0_omega # only for Bethe lattice\n",
    "    return G0_omega, Gloc"
   ]
  },
  {
   "cell_type": "markdown",
   "metadata": {},
   "source": [
    "## Padé Approximation"
   ]
  },
  {
   "cell_type": "code",
   "execution_count": 7,
   "metadata": {
    "collapsed": true
   },
   "outputs": [],
   "source": [
    "class PadeApproximation:\n",
    "    def __init__(self, points, values,filter_index=None):\n",
    "        #possible to filter specific values eg filter_index = points>0 to filter positive values\n",
    "        if filter_index is not None:\n",
    "            self.N = points[filter_index].shape[0]\n",
    "            self.points = points[filter_index]\n",
    "            self.values = values[filter_index]\n",
    "        else:\n",
    "            self.N = points.shape[0]\n",
    "            self.points = points\n",
    "            self.values = values\n",
    "        \n",
    "        g_matrix = np.zeros((self.N,self.N),dtype=np.complex256)\n",
    "        g_matrix[0] = self.values\n",
    "        for i in range(1,self.N):\n",
    "            g_matrix[i,i:] = ( g_matrix[i-1,i-1] - g_matrix[i-1,i:] ) / ( ( self.points[i:] - self.points[i-1] ) * g_matrix[i-1,i:] )\n",
    "        self.a_coeff = np.diag(g_matrix)\n",
    "    def __call__(self,z):\n",
    "        Nz = z.shape[0]\n",
    "        A = np.zeros((self.N+1,Nz),dtype=np.complex256)\n",
    "        B = np.zeros((self.N+1,Nz),dtype=np.complex256)\n",
    "        A[1] = self.a_coeff[0]\n",
    "        B[0] = 1.\n",
    "        B[1] = 1.\n",
    "        for i in range(2,self.N+1):\n",
    "            A[i] = A[i-1] + (z-self.points[i-2]) * self.a_coeff[i-1] * A[i-2]\n",
    "            B[i] = B[i-1] + (z-self.points[i-2]) * self.a_coeff[i-1] * B[i-2]\n",
    "        return A[self.N]/B[self.N]\n"
   ]
  }
 ],
 "metadata": {
  "kernelspec": {
   "display_name": "Python 3",
   "language": "python",
   "name": "python3"
  },
  "language_info": {
   "codemirror_mode": {
    "name": "ipython",
    "version": 3
   },
   "file_extension": ".py",
   "mimetype": "text/x-python",
   "name": "python",
   "nbconvert_exporter": "python",
   "pygments_lexer": "ipython3",
   "version": "3.5.1"
  }
 },
 "nbformat": 4,
 "nbformat_minor": 0
}
