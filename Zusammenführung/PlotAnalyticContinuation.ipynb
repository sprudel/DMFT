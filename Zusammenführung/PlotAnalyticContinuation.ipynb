{
 "cells": [
  {
   "cell_type": "code",
   "execution_count": 6,
   "metadata": {
    "collapsed": false
   },
   "outputs": [
    {
     "name": "stdout",
     "output_type": "stream",
     "text": [
      "Populating the interactive namespace from numpy and matplotlib\n"
     ]
    }
   ],
   "source": [
    "%pylab inline"
   ]
  },
  {
   "cell_type": "code",
   "execution_count": 27,
   "metadata": {
    "collapsed": true
   },
   "outputs": [],
   "source": [
    "x = linspace(-1,1,100)\n",
    "y = linspace(-1,1,100)\n",
    "z0 = zeros_like(y)\n",
    "freq = linspace(0.2,1.2,10)"
   ]
  },
  {
   "cell_type": "code",
   "execution_count": 43,
   "metadata": {
    "collapsed": false
   },
   "outputs": [
    {
     "data": {
      "image/png": "[encoded data removed]",
      "text/plain": [
       "<matplotlib.figure.Figure at 0x7f28d0a01ef0>"
      ]
     },
     "metadata": {},
     "output_type": "display_data"
    }
   ],
   "source": [
    "plt.rc('text', usetex=True)\n",
    "plt.rc('font', family='sans-serif')\n",
    "figure(figsize=(7,7))\n",
    "ylim(-1,1)\n",
    "plot(x,z0, color='black')\n",
    "plot(z0,y, color=\"black\")\n",
    "plot(x,z0+0.05, \"--\", lw=2, color='red', label=\"$G(\\omega + i \\eta)$\")\n",
    "fill_between(x,0,z0+1,color='blue', alpha=0.2)\n",
    "plot(zeros_like(freq), freq, \"o\", color=\"green\", label=\"$G(i\\omega)$\")\n",
    "plot(zeros_like(freq), -freq, \"o\", color=\"green\")\n",
    "xlabel(\"$\\Re{}$\")\n",
    "ylabel(\"$\\Im{}$\")\n",
    "annotate(\"Jump in Green's function\", (0,0), (-0.8,-0.2),arrowprops=dict(facecolor='black', shrink=0.001))\n",
    "legend()\n",
    "plt.savefig(\"analytic_continuation.pdf\",bbox_inches='tight')\n"
   ]
  },
  {
   "cell_type": "code",
   "execution_count": null,
   "metadata": {
    "collapsed": true
   },
   "outputs": [],
   "source": []
  }
 ],
 "metadata": {
  "kernelspec": {
   "display_name": "Python 3",
   "language": "python",
   "name": "python3"
  },
  "language_info": {
   "codemirror_mode": {
    "name": "ipython",
    "version": 3
   },
   "file_extension": ".py",
   "mimetype": "text/x-python",
   "name": "python",
   "nbconvert_exporter": "python",
   "pygments_lexer": "ipython3",
   "version": "3.5.1"
  }
 },
 "nbformat": 4,
 "nbformat_minor": 0
}
