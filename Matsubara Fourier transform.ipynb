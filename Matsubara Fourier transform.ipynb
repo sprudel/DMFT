{
 "cells": [
  {
   "cell_type": "code",
   "execution_count": 159,
   "metadata": {
    "collapsed": false
   },
   "outputs": [],
   "source": [
    "import numpy as np\n",
    "import matplotlib.pyplot as plt\n",
    "from scipy.integrate import quad\n",
    "%matplotlib inline\n",
    "\n",
    "beta = 100.\n",
    "U = 0.1\n",
    "t = 1.\n",
    "N = 31 # odd\n",
    "freq = np.pi/beta * np.arange(-N, N+2, 2) \n",
    "a = 1.\n",
    "def G_w(w):\n",
    "    return 1. / ( 1j*w + a )\n",
    "\n",
    "def G_t(t):\n",
    "    return 1./ beta *sum( np.exp(-1j*t*w)*G_w(w) for w in freq)\n",
    "\n",
    "def G_trick(t):\n",
    "    return - 0.5 + 1./ beta *sum( np.exp(-1j*t*w)*( G_w(w)-1./(1j*w) ) for w in freq)\n",
    "    "
   ]
  },
  {
   "cell_type": "code",
   "execution_count": 160,
   "metadata": {
    "collapsed": false
   },
   "outputs": [
    {
     "data": {
      "text/plain": [
       "[<matplotlib.lines.Line2D at 0x10d3e62d0>]"
      ]
     },
     "execution_count": 160,
     "metadata": {},
     "output_type": "execute_result"
    },
    {
     "data": {
      "image/png": "[encoded data removed]",
      "text/plain": [
       "<matplotlib.figure.Figure at 0x10d085750>"
      ]
     },
     "metadata": {},
     "output_type": "display_data"
    }
   ],
   "source": [
    "def test_t(t):\n",
    "    return 1./ beta *sum( np.exp(-1j*t*w)/(1j*w) for w in freq)\n",
    "times = np.arange(0,beta,1./50)\n",
    "plt.plot(times, test_t(times).real)\n",
    "plt.plot(times, test_t(times).imag)"
   ]
  },
  {
   "cell_type": "code",
   "execution_count": 161,
   "metadata": {
    "collapsed": true
   },
   "outputs": [],
   "source": [
    "def Fourier_w(w,func):\n",
    "    temp1 = quad(lambda t: np.cos(t*w)*func(t).real - np.sin(t*w)*func(t).imag, 0, beta)[0]\n",
    "    temp2 = quad(lambda t: np.cos(t*w)*func(t).imag + np.sin(t*w)*func(t).real, 0, beta)[0]\n",
    "    return temp1 + 1j*temp2"
   ]
  },
  {
   "cell_type": "code",
   "execution_count": 162,
   "metadata": {
    "collapsed": false
   },
   "outputs": [
    {
     "name": "stdout",
     "output_type": "stream",
     "text": [
      "1.00074151062e-15 -- 4.05535460609e-15\n",
      "1.55530318914e-15 -- 7.94566072274e-15\n",
      "1.23254758129e-15 -- 4.34487805524e-15\n",
      "1.7763568394e-15 -- 6.17971517801e-15\n",
      "4.0826178012e-15 -- 7.44863677715e-15\n"
     ]
    }
   ],
   "source": [
    "for w in freq[0:2*N:N/4]:\n",
    "    temp1 = Fourier_w(w,G_t)\n",
    "    temp2 = Fourier_w(w,G_trick)\n",
    "    temp3 = G_w(w)\n",
    "    #print temp1, \"--\", temp2, \"--\", abs(temp1-temp3)\n",
    "    print abs(temp1-temp3), \"--\", abs(temp2 -temp3)"
   ]
  },
  {
   "cell_type": "code",
   "execution_count": 163,
   "metadata": {
    "collapsed": false
   },
   "outputs": [
    {
     "data": {
      "text/plain": [
       "[<matplotlib.lines.Line2D at 0x10d085e10>]"
      ]
     },
     "execution_count": 163,
     "metadata": {},
     "output_type": "execute_result"
    },
    {
     "data": {
      "image/png": "[encoded data removed]",
      "text/plain": [
       "<matplotlib.figure.Figure at 0x10d2ac950>"
      ]
     },
     "metadata": {},
     "output_type": "display_data"
    }
   ],
   "source": [
    "freqpart = freq[:-1:10]\n",
    "plt.plot(freqpart,map(lambda w: abs(Fourier_w(w,G_trick)), freqpart))\n",
    "plt.plot(freqpart,map(lambda w: abs(G_w(w)), freqpart))"
   ]
  },
  {
   "cell_type": "code",
   "execution_count": 1,
   "metadata": {
    "collapsed": false
   },
   "outputs": [
    {
     "data": {
      "text/plain": [
       "4"
      ]
     },
     "execution_count": 1,
     "metadata": {},
     "output_type": "execute_result"
    }
   ],
   "source": [
    "2+2"
   ]
  },
  {
   "cell_type": "code",
   "execution_count": null,
   "metadata": {
    "collapsed": true
   },
   "outputs": [],
   "source": []
  }
 ],
 "metadata": {
  "kernelspec": {
   "display_name": "Python 2",
   "language": "python",
   "name": "python2"
  },
  "language_info": {
   "codemirror_mode": {
    "name": "ipython",
    "version": 2
   },
   "file_extension": ".py",
   "mimetype": "text/x-python",
   "name": "python",
   "nbconvert_exporter": "python",
   "pygments_lexer": "ipython2",
   "version": "2.7.10"
  }
 },
 "nbformat": 4,
 "nbformat_minor": 0
}
