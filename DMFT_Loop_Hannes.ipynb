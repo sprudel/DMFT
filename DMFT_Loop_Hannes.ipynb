{
 "cells": [
  {
   "cell_type": "code",
   "execution_count": 1,
   "metadata": {
    "collapsed": false
   },
   "outputs": [
    {
     "name": "stdout",
     "output_type": "stream",
     "text": [
      "Populating the interactive namespace from numpy and matplotlib\n"
     ]
    }
   ],
   "source": [
    "%pylab inline"
   ]
  },
  {
   "cell_type": "markdown",
   "metadata": {},
   "source": [
    "Defining some constants:"
   ]
  },
  {
   "cell_type": "code",
   "execution_count": 230,
   "metadata": {
    "collapsed": true
   },
   "outputs": [],
   "source": [
    "beta = 1.\n",
    "U = 0.1\n",
    "t = 1."
   ]
  },
  {
   "cell_type": "code",
   "execution_count": 219,
   "metadata": {
    "collapsed": false
   },
   "outputs": [],
   "source": [
    "#definition of FourierTransforms\n",
    "def matsubara_fft(G_tau):\n",
    "    N = G_tau.shape[0]\n",
    "    k = np.arange(N, dtype='float')\n",
    "    return beta/N*np.fft.fft(G_tau*np.exp(1j*np.pi*k/N))\n",
    "#numpy orders frequencies differently so one has to convert frequencies\n",
    "def matsubara_freq(N):\n",
    "    return np.pi/beta *(-2*(np.fft.fftfreq(N))*N+1)\n",
    "def matsubara_ifft(G_omega):\n",
    "    N = G_omega.shape[0]\n",
    "    k = np.arange(N,dtype='float')\n",
    "    return N/beta*np.exp(-1j*np.pi*k/N)*np.fft.ifft(G_omega)\n",
    "#following has to be improved:\n",
    "def matsubara_ifft_trick(G_omega):\n",
    "    N = G_omega.shape[0]\n",
    "    freq = matsubara_freq(N)\n",
    "    k = np.arange(N,dtype='float')\n",
    "    return -1/2+N/beta*np.exp(-1j*np.pi*k/N)*np.fft.ifft(G_omega-1./(1j*freq) )\n"
   ]
  },
  {
   "cell_type": "code",
   "execution_count": 220,
   "metadata": {
    "collapsed": false
   },
   "outputs": [],
   "source": [
    "N=500\n",
    "tau = linspace(0,beta*(1.-1./N),N)\n",
    "dtau = beta/N\n",
    "a=10.\n",
    "freq = matsubara_freq(N)"
   ]
  },
  {
   "cell_type": "markdown",
   "metadata": {},
   "source": [
    "Self-Energy in second order perturbation theory:\n",
    "$$ Σ(iω) = -U^2 \\frac{1}{\\beta^2}\\sum_{iν, iγ} G_0(iν) G_0(-ω + ν + γ) G_0(q)\\\\\n",
    "= -U^2 \\int_0^β dτ G_0(τ)^2 G_0(-τ) e^{iω τ}$$"
   ]
  },
  {
   "cell_type": "markdown",
   "metadata": {},
   "source": [
    "We have $G_0(τ)=-G_0(β+τ)$. Discretized:\n",
    "$$G(-τ_k)= -G(β-τ_k) = -G(β-\\frac{β}{N} k)= -G(\\frac{β}{N}(N-k))=-G(τ_{N-k})$$"
   ]
  },
  {
   "cell_type": "code",
   "execution_count": 221,
   "metadata": {
    "collapsed": true
   },
   "outputs": [],
   "source": [
    "def self_energy(G0_omega):\n",
    "    G0_tau = matsubara_ifft(G0_omega)\n",
    "    G0_minus_tau = -np.roll(G0_tau[::-1],1)\n",
    "    G0_minus_tau[0] = -G0_minus_tau[0]\n",
    "    return -U**2*dtau*np.sum(G0_tau**2*G0_minus_tau*np.exp(1j *freq[:,np.newaxis]*tau),axis=1)"
   ]
  },
  {
   "cell_type": "code",
   "execution_count": 222,
   "metadata": {
    "collapsed": false
   },
   "outputs": [],
   "source": [
    "from scipy.integrate import simps\n",
    "def self_energy_simps(G0_omega):\n",
    "    G0_tau = matsubara_ifft(G0_omega)\n",
    "    G0_minus_tau = -np.roll(G0_tau[::-1],1)\n",
    "    G0_minus_tau[0] = -G0_minus_tau[0]\n",
    "    return -U**2*simps(G0_tau**2*G0_minus_tau*np.exp(1j *freq[:,np.newaxis]*tau),dx=dtau)"
   ]
  },
  {
   "cell_type": "markdown",
   "metadata": {},
   "source": [
    "$$G_{loc} = \\frac{1}{N_k} \\sum_k\\frac{1}{iω_n -ε_k - Σ_{imp}(iω)}$$"
   ]
  },
  {
   "cell_type": "code",
   "execution_count": 223,
   "metadata": {
    "collapsed": false
   },
   "outputs": [],
   "source": [
    "#dispersion realtion as in Fabian's worksheet\n",
    "Nk = N\n",
    "k = linspace(-np.pi,np.pi, Nk)\n",
    "epsilon_k = -2.*t*np.cos(k)\n",
    "def Gloc_omega(self_energy_omega):\n",
    "    return 1/Nk*np.sum(1/(1j*freq-epsilon_k[:, np.newaxis]-self_energy_omega),axis=0)"
   ]
  },
  {
   "cell_type": "code",
   "execution_count": 308,
   "metadata": {
    "collapsed": true
   },
   "outputs": [],
   "source": [
    "tmp = []\n",
    "it = []\n",
    "def DMFT_loop(G0_initial_omega, iterations):\n",
    "    G0_omega= G0_initial_omega\n",
    "    print(\"start calculation with U={}\".format(U))\n",
    "    for i in range(iterations):\n",
    "        self_e = self_energy_simps(G0_omega)\n",
    "        Gloc = Gloc_omega(self_e)\n",
    "        G0_omega = 1/(1/Gloc+self_e+U/2.)\n",
    "        if i%(iterations//10) ==0:\n",
    "            print(\"{}% \".format(100*i/iterations),end='',flush=True)\n",
    "        tmp.append(Gloc)\n",
    "    print(\"100.0%\")\n",
    "    return np.array(tmp)"
   ]
  },
  {
   "cell_type": "code",
   "execution_count": 309,
   "metadata": {
    "collapsed": false
   },
   "outputs": [],
   "source": [
    "a = 1.\n",
    "#G0_initial_omega = zeros_like(freq)\n",
    "G0_initial_omega = 1. / ( 1j*freq + a )"
   ]
  },
  {
   "cell_type": "code",
   "execution_count": 295,
   "metadata": {
    "collapsed": false
   },
   "outputs": [
    {
     "name": "stdout",
     "output_type": "stream",
     "text": [
      "start calculation with U=0.1\n",
      "0.0% 10.0% 20.0% 30.0% 40.0% 50.0% 60.0% 70.0% 80.0% 90.0% 100.0%\n",
      "start calculation with U=1000\n",
      "0.0% 10.0% 20.0% 30.0% 40.0% 50.0% 60.0% 70.0% 80.0% 90.0% 100.0%\n"
     ]
    }
   ],
   "source": [
    "U = 0.1\n",
    "DMFT_solutions1 = DMFT_loop(G0_initial_omega,100)\n",
    "U = 1000\n",
    "DMFT_solutions2 = DMFT_loop(G0_initial_omega,100)\n",
    "#DMFT_solution_tau = matsubara_ifft_trick(DMFT_solution)"
   ]
  },
  {
   "cell_type": "code",
   "execution_count": 296,
   "metadata": {
    "collapsed": true
   },
   "outputs": [],
   "source": [
    "from ipywidgets import interact"
   ]
  },
  {
   "cell_type": "code",
   "execution_count": 303,
   "metadata": {
    "collapsed": true
   },
   "outputs": [],
   "source": [
    "def plot(i=0):\n",
    "    DMFT_solution1 = DMFT_solutions1[i]\n",
    "    DMFT_solution2 = DMFT_solutions2[i]\n",
    "\n",
    "    fig, ax = plt.subplots(ncols=2,figsize=(12,5))\n",
    "    ax[0].set_title(\"Real part\")\n",
    "    #ax[0].plot(freq, G0_initial_omega.real,\"+\",label=\"G0_initial\")\n",
    "    ax[0].plot(freq, DMFT_solution1.real,\"+\",label=\"Gloc DMFT 1\")\n",
    "    ax[0].plot(freq, DMFT_solution2.real,\"+\",label=\"Gloc DMFT 2\")\n",
    "\n",
    "    ax[0].set_xlabel(\"$\\omega$\")\n",
    "    ax[1].set_title(\"imag part\")\n",
    "    #ax[1].plot(freq, G0_initial_omega.imag,\"+\",label=\"G0_initial\")\n",
    "    ax[1].plot(freq, DMFT_solution1.imag,\"+\",label=\"Gloc DMFT 1\")\n",
    "    ax[1].plot(freq, DMFT_solution2.imag,\"+\",label=\"Gloc DMFT 2\")\n",
    "\n",
    "    ax[1].set_xlabel(\"$\\omega$\")\n",
    "\n",
    "    ax[0].legend()\n",
    "    ax[1].legend()\n"
   ]
  },
  {
   "cell_type": "code",
   "execution_count": 304,
   "metadata": {
    "collapsed": false
   },
   "outputs": [
    {
     "data": {
      "image/png": "[encoded data removed]",
      "text/plain": [
       "<matplotlib.figure.Figure at 0x7fcf2bcdaa58>"
      ]
     },
     "metadata": {},
     "output_type": "display_data"
    }
   ],
   "source": [
    "interact(plot, i=(0,DMFT_solutions1.shape[0]-1,1),yupperlim=(0,0.1,0.001))"
   ]
  }
 ],
 "metadata": {
  "kernelspec": {
   "display_name": "Python 3",
   "language": "python",
   "name": "python3"
  },
  "language_info": {
   "codemirror_mode": {
    "name": "ipython",
    "version": 3
   },
   "file_extension": ".py",
   "mimetype": "text/x-python",
   "name": "python",
   "nbconvert_exporter": "python",
   "pygments_lexer": "ipython3",
   "version": "3.5.1"
  }
 },
 "nbformat": 4,
 "nbformat_minor": 0
}
