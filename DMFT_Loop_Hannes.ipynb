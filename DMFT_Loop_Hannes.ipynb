{
 "cells": [
  {
   "cell_type": "code",
   "execution_count": 1,
   "metadata": {
    "collapsed": false
   },
   "outputs": [
    {
     "name": "stdout",
     "output_type": "stream",
     "text": [
      "Populating the interactive namespace from numpy and matplotlib\n"
     ]
    }
   ],
   "source": [
    "%pylab inline"
   ]
  },
  {
   "cell_type": "markdown",
   "metadata": {},
   "source": [
    "Defining some constants:"
   ]
  },
  {
   "cell_type": "code",
   "execution_count": 2,
   "metadata": {
    "collapsed": true
   },
   "outputs": [],
   "source": [
    "beta = 1.\n",
    "U = 0.1\n",
    "t = 1."
   ]
  },
  {
   "cell_type": "code",
   "execution_count": 3,
   "metadata": {
    "collapsed": false
   },
   "outputs": [],
   "source": [
    "#definition of FourierTransforms\n",
    "def matsubara_fft(G_tau):\n",
    "    N = G_tau.shape[0]\n",
    "    k = np.arange(N, dtype='float')\n",
    "    return beta/N*np.fft.fft(G_tau*np.exp(1j*np.pi*k/N))\n",
    "#numpy orders frequencies differently so one has to convert frequencies\n",
    "def matsubara_freq(N):\n",
    "    return np.pi/beta *(-2*(np.fft.fftfreq(N))*N+1)\n",
    "def matsubara_ifft(G_omega):\n",
    "    N = G_omega.shape[0]\n",
    "    k = np.arange(N,dtype='float')\n",
    "    return N/beta*np.exp(-1j*np.pi*k/N)*np.fft.ifft(G_omega)\n",
    "#following has to be improved:\n",
    "def matsubara_ifft_trick(G_omega):\n",
    "    N = G_omega.shape[0]\n",
    "    freq = matsubara_freq(N)\n",
    "    k = np.arange(N,dtype='float')\n",
    "    return -1/2+N/beta*np.exp(-1j*np.pi*k/N)*np.fft.ifft(G_omega-1./(1j*freq) )\n"
   ]
  },
  {
   "cell_type": "code",
   "execution_count": 4,
   "metadata": {
    "collapsed": false
   },
   "outputs": [],
   "source": [
    "N=500\n",
    "tau = linspace(0,beta*(1.-1./N),N)\n",
    "dtau = beta/N\n",
    "a=10.\n",
    "freq = matsubara_freq(N)"
   ]
  },
  {
   "cell_type": "markdown",
   "metadata": {},
   "source": [
    "Self-Energy in second order perturbation theory:\n",
    "$$ Σ(iω) = -U^2 \\frac{1}{\\beta^2}\\sum_{iν, iγ} G_0(iν) G_0(-ω + ν + γ) G_0(q)\\\\\n",
    "= -U^2 \\int_0^β dτ G_0(τ)^2 G_0(-τ) e^{iω τ}$$"
   ]
  },
  {
   "cell_type": "code",
   "execution_count": 5,
   "metadata": {
    "collapsed": true
   },
   "outputs": [],
   "source": [
    "def self_energy(G0_omega):\n",
    "    G0_tau = matsubara_ifft(G0_omega)\n",
    "    return U**2*dtau*np.sum(G0_tau**2*np.roll(G0_tau[::-1],1)*np.exp(1j *freq[:,np.newaxis]*tau),axis=1)"
   ]
  },
  {
   "cell_type": "markdown",
   "metadata": {},
   "source": [
    "$$G_{loc} = \\frac{1}{N_k} \\sum_k\\frac{1}{iω_n -ε_k - Σ_{imp}(iω)}$$"
   ]
  },
  {
   "cell_type": "code",
   "execution_count": 6,
   "metadata": {
    "collapsed": false
   },
   "outputs": [],
   "source": [
    "#dispersion realtion as in Fabian's worksheet\n",
    "Nk = N\n",
    "k = linspace(-np.pi,np.pi, Nk)\n",
    "epsilon_k = -2.*t*np.cos(k)\n",
    "def Gloc_omega(self_energy_omega):\n",
    "    return 1/Nk*np.sum(1/(1j*freq-epsilon_k[:, np.newaxis]-self_energy_omega),axis=0)"
   ]
  },
  {
   "cell_type": "code",
   "execution_count": 7,
   "metadata": {
    "collapsed": true
   },
   "outputs": [],
   "source": [
    "tmp = []\n",
    "it = []\n",
    "def DMFT_loop(G0_initial_omega, iterations):\n",
    "    G0_omega= G0_initial_omega\n",
    "    for i in range(iterations):\n",
    "        self_e = self_energy(G0_omega)\n",
    "        Gloc = Gloc_omega(self_e)\n",
    "        G0_omega = 1/(1/Gloc+self_e+U/2.)\n",
    "        if i%iterations//10 ==0:\n",
    "            print(100*i/iterations)\n",
    "            tmp.append(Gloc)\n",
    "    return tmp"
   ]
  },
  {
   "cell_type": "code",
   "execution_count": 8,
   "metadata": {
    "collapsed": true
   },
   "outputs": [],
   "source": [
    "def DMFT_loop2(G0_initial_omega):\n",
    "    G0_omega= G0_initial_omega\n",
    "    self_e = self_energy(G0_omega)\n",
    "    Gloc = Gloc_omega(self_e)\n",
    "    G0_omega = 1/(1/Gloc+self_e+U/2.)\n",
    "    return G0_omega"
   ]
  },
  {
   "cell_type": "code",
   "execution_count": 9,
   "metadata": {
    "collapsed": false
   },
   "outputs": [],
   "source": [
    "a = 1\n",
    "G0_initial_omega = 1. / ( 1j*freq + a )"
   ]
  },
  {
   "cell_type": "code",
   "execution_count": 10,
   "metadata": {
    "collapsed": false
   },
   "outputs": [
    {
     "name": "stdout",
     "output_type": "stream",
     "text": [
      "0.0\n",
      "1.0\n",
      "2.0\n",
      "3.0\n",
      "4.0\n",
      "5.0\n",
      "6.0\n",
      "7.0\n",
      "8.0\n",
      "9.0\n"
     ]
    }
   ],
   "source": [
    "DMFT_solutions = DMFT_loop(G0_initial_omega,100)\n",
    "#DMFT_solution_tau = matsubara_ifft_trick(DMFT_solution)"
   ]
  },
  {
   "cell_type": "code",
   "execution_count": 11,
   "metadata": {
    "collapsed": true
   },
   "outputs": [],
   "source": [
    "tmp = np.array(DMFT_solutions)"
   ]
  },
  {
   "cell_type": "code",
   "execution_count": 12,
   "metadata": {
    "collapsed": true
   },
   "outputs": [],
   "source": [
    "from ipywidgets import interact"
   ]
  },
  {
   "cell_type": "code",
   "execution_count": 13,
   "metadata": {
    "collapsed": true
   },
   "outputs": [],
   "source": [
    "def plot(i=0):\n",
    "    DMFT_solution = tmp[i]\n",
    "    fig, ax = plt.subplots(ncols=2,figsize=(12,5))\n",
    "    ax[0].set_title(\"Real part\")\n",
    "    #ax[0].plot(freq, G0_initial_omega.real,\"+\",label=\"G0_initial\")\n",
    "    ax[0].plot(freq, DMFT_solution.real,\"+\",label=\"Gloc DMFT\")\n",
    "    ax[0].set_xlabel(\"$\\omega$\")\n",
    "\n",
    "    ax[1].set_title(\"imag part\")\n",
    "    #ax[1].plot(freq, G0_initial_omega.imag,\"+\",label=\"G0_initial\")\n",
    "    ax[1].plot(freq, DMFT_solution.imag,\"+\",label=\"Gloc DMFT\")\n",
    "    ax[1].set_xlabel(\"$\\omega$\")\n",
    "\n",
    "    ax[0].legend()\n",
    "    ax[1].legend()\n"
   ]
  },
  {
   "cell_type": "code",
   "execution_count": 14,
   "metadata": {
    "collapsed": false
   },
   "outputs": [
    {
     "data": {
      "text/plain": [
       "<function __main__.plot>"
      ]
     },
     "execution_count": 14,
     "metadata": {},
     "output_type": "execute_result"
    },
    {
     "data": {
      "image/png": "[encoded data removed]",
      "text/plain": [
       "<matplotlib.figure.Figure at 0x7fa75c11f6a0>"
      ]
     },
     "metadata": {},
     "output_type": "display_data"
    }
   ],
   "source": [
    "interact(plot, i=(0,10,1))"
   ]
  },
  {
   "cell_type": "code",
   "execution_count": 15,
   "metadata": {
    "collapsed": false
   },
   "outputs": [
    {
     "ename": "NameError",
     "evalue": "name 'DMFT_solution' is not defined",
     "output_type": "error",
     "traceback": [
      "\u001b[1;31m---------------------------------------------------------------------------\u001b[0m",
      "\u001b[1;31mNameError\u001b[0m                                 Traceback (most recent call last)",
      "\u001b[1;32m<ipython-input-15-c6097490a605>\u001b[0m in \u001b[0;36m<module>\u001b[1;34m()\u001b[0m\n\u001b[0;32m      2\u001b[0m \u001b[0max\u001b[0m\u001b[1;33m[\u001b[0m\u001b[1;36m0\u001b[0m\u001b[1;33m]\u001b[0m\u001b[1;33m.\u001b[0m\u001b[0mset_title\u001b[0m\u001b[1;33m(\u001b[0m\u001b[1;34m\"Real part\"\u001b[0m\u001b[1;33m)\u001b[0m\u001b[1;33m\u001b[0m\u001b[0m\n\u001b[0;32m      3\u001b[0m \u001b[1;31m#ax[0].plot(freq, G0_initial_omega.real,\"+\",label=\"G0_initial\")\u001b[0m\u001b[1;33m\u001b[0m\u001b[1;33m\u001b[0m\u001b[0m\n\u001b[1;32m----> 4\u001b[1;33m \u001b[0max\u001b[0m\u001b[1;33m[\u001b[0m\u001b[1;36m0\u001b[0m\u001b[1;33m]\u001b[0m\u001b[1;33m.\u001b[0m\u001b[0mplot\u001b[0m\u001b[1;33m(\u001b[0m\u001b[0mfreq\u001b[0m\u001b[1;33m,\u001b[0m \u001b[0mDMFT_solution\u001b[0m\u001b[1;33m.\u001b[0m\u001b[0mreal\u001b[0m\u001b[1;33m,\u001b[0m\u001b[1;34m\"+\"\u001b[0m\u001b[1;33m,\u001b[0m\u001b[0mlabel\u001b[0m\u001b[1;33m=\u001b[0m\u001b[1;34m\"Gloc DMFT\"\u001b[0m\u001b[1;33m)\u001b[0m\u001b[1;33m\u001b[0m\u001b[0m\n\u001b[0m\u001b[0;32m      5\u001b[0m \u001b[0max\u001b[0m\u001b[1;33m[\u001b[0m\u001b[1;36m0\u001b[0m\u001b[1;33m]\u001b[0m\u001b[1;33m.\u001b[0m\u001b[0mset_xlabel\u001b[0m\u001b[1;33m(\u001b[0m\u001b[1;34m\"$\\omega$\"\u001b[0m\u001b[1;33m)\u001b[0m\u001b[1;33m\u001b[0m\u001b[0m\n\u001b[0;32m      6\u001b[0m \u001b[1;33m\u001b[0m\u001b[0m\n",
      "\u001b[1;31mNameError\u001b[0m: name 'DMFT_solution' is not defined"
     ]
    },
    {
     "data": {
      "image/png": "[encoded data removed]",
      "text/plain": [
       "<matplotlib.figure.Figure at 0x7fa757ced048>"
      ]
     },
     "metadata": {},
     "output_type": "display_data"
    }
   ],
   "source": [
    "fig, ax = plt.subplots(ncols=2,figsize=(12,5))\n",
    "ax[0].set_title(\"Real part\")\n",
    "#ax[0].plot(freq, G0_initial_omega.real,\"+\",label=\"G0_initial\")\n",
    "ax[0].plot(freq, DMFT_solution.real,\"+\",label=\"Gloc DMFT\")\n",
    "ax[0].set_xlabel(\"$\\omega$\")\n",
    "\n",
    "ax[1].set_title(\"imag part\")\n",
    "#ax[1].plot(freq, G0_initial_omega.imag,\"+\",label=\"G0_initial\")\n",
    "ax[1].plot(freq, DMFT_solution.imag,\"+\",label=\"Gloc DMFT\")\n",
    "ax[1].set_xlabel(\"$\\omega$\")\n",
    "\n",
    "ax[0].legend()\n",
    "ax[1].legend()\n"
   ]
  },
  {
   "cell_type": "code",
   "execution_count": null,
   "metadata": {
    "collapsed": false
   },
   "outputs": [],
   "source": [
    "plot(tau,DMFT_solution_tau.real)\n",
    "#plot(tau,DMFT_solution_tau.imag)"
   ]
  },
  {
   "cell_type": "code",
   "execution_count": null,
   "metadata": {
    "collapsed": true
   },
   "outputs": [],
   "source": []
  }
 ],
 "metadata": {
  "kernelspec": {
   "display_name": "Python 3",
   "language": "python",
   "name": "python3"
  },
  "language_info": {
   "codemirror_mode": {
    "name": "ipython",
    "version": 3
   },
   "file_extension": ".py",
   "mimetype": "text/x-python",
   "name": "python",
   "nbconvert_exporter": "python",
   "pygments_lexer": "ipython3",
   "version": "3.5.1"
  }
 },
 "nbformat": 4,
 "nbformat_minor": 0
}
