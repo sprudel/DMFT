{
 "cells": [
  {
   "cell_type": "code",
   "execution_count": 1,
   "metadata": {
    "collapsed": false
   },
   "outputs": [
    {
     "name": "stdout",
     "output_type": "stream",
     "text": [
      "Populating the interactive namespace from numpy and matplotlib\n"
     ]
    }
   ],
   "source": [
    "%pylab inline"
   ]
  },
  {
   "cell_type": "code",
   "execution_count": 135,
   "metadata": {
    "collapsed": true
   },
   "outputs": [],
   "source": [
    "beta = 100.\n",
    "t = 1."
   ]
  },
  {
   "cell_type": "code",
   "execution_count": 136,
   "metadata": {
    "collapsed": true
   },
   "outputs": [],
   "source": [
    "#definition of FourierTransforms\n",
    "def matsubara_fft(G_tau):\n",
    "    N = G_tau.shape[0]\n",
    "    k = np.arange(N, dtype='float')\n",
    "    return beta/N*np.fft.fft(G_tau*np.exp(1j*np.pi*k/N))\n",
    "def matsubara_fft_trick(G_tau):\n",
    "    N = G_tau.shape[0]\n",
    "    freq = matsubara_freq(N)\n",
    "    k = np.arange(N, dtype='float')\n",
    "    return beta/N*np.fft.fft( (G_tau+0.5) *np.exp(1j*np.pi*k/N)) + 1./(1j*freq)\n",
    "#numpy orders frequencies differently so one has to convert frequencies\n",
    "def matsubara_freq(N):\n",
    "    return np.pi/beta *(-2*(np.fft.fftfreq(N))*N+1)\n",
    "def matsubara_ifft(G_omega):\n",
    "    N = G_omega.shape[0]\n",
    "    k = np.arange(N,dtype='float')\n",
    "    return N/beta*np.exp(-1j*np.pi*k/N)*np.fft.ifft(G_omega)\n",
    "#following has to be improved:\n",
    "def matsubara_ifft_trick(G_omega):\n",
    "    N = G_omega.shape[0]\n",
    "    freq = matsubara_freq(N)\n",
    "    k = np.arange(N,dtype='float')\n",
    "    return -1/2+N/beta*np.exp(-1j*np.pi*k/N)*np.fft.ifft(G_omega-1./(1j*freq) )"
   ]
  },
  {
   "cell_type": "code",
   "execution_count": 137,
   "metadata": {
    "collapsed": true
   },
   "outputs": [],
   "source": [
    "N=501\n",
    "tau = linspace(0,beta*(1.-1./N),N)\n",
    "dtau = beta/N\n",
    "freq = matsubara_freq(N)"
   ]
  },
  {
   "cell_type": "code",
   "execution_count": 138,
   "metadata": {
    "collapsed": true
   },
   "outputs": [],
   "source": [
    "def self_energy(G0_omega,U):\n",
    "    G0_tau = matsubara_ifft_trick(G0_omega)\n",
    "    #G0_product_tau = -U**2*G0_tau**3\n",
    "    G0_minus_tau = -np.roll(G0_tau[::-1],1)\n",
    "    G0_minus_tau[0] = -G0_minus_tau[0]\n",
    "    G0_product_tau = -U**2 * G0_tau**2 * G0_minus_tau\n",
    "    #G0_product_tau = -U**2 * G0_tau**3\n",
    "    return matsubara_fft_trick(G0_product_tau)"
   ]
  },
  {
   "cell_type": "code",
   "execution_count": 140,
   "metadata": {
    "collapsed": true
   },
   "outputs": [],
   "source": [
    "from scipy.integrate import simps\n",
    "Ne = N\n",
    "Nk = N\n",
    "k = linspace(-np.pi,np.pi, Nk)\n",
    "epsilon_k = -2.*t*np.cos(k)\n",
    "#D = 2.*t\n",
    "D = 1.\n",
    "def dos_bethe(e):\n",
    "    return 2./(np.pi*D)*np.sqrt(1.-(e/D)**2)\n",
    "def dos_cubic(e):\n",
    "    return 1./(t*np.sqrt(2.*np.pi))*np.exp(-e**2/(2.*t))\n",
    "def Gloc_omega(self_energy_omega):\n",
    "    #return 1./Nk*np.sum(1./(1j*freq-epsilon_k[:, np.newaxis]-self_energy_omega),axis=0)\n",
    "    ##\n",
    "    energies_bethe = np.linspace(-D,D,Ne)\n",
    "    denergies_bethe = energies_bethe[2] - energies_bethe[1]\n",
    "    return simps( dos_bethe(energies_bethe)/(1j*freq[:,np.newaxis]-energies_bethe-self_energy_omega[:,np.newaxis]) ,dx=denergies_bethe)\n",
    "    ##\n",
    "    #energies_cubic = np.linspace(-10.*t,10*t,Ne)\n",
    "    #denergies_cubic = energies_cubic[2] - energies_cubic[1]\n",
    "    #return simps( dos_cubic(energies_cubic)/(1j*freq[:,np.newaxis]-energies_cubic-self_energy_omega[:,np.newaxis]) ,dx=denergies_cubic)"
   ]
  },
  {
   "cell_type": "code",
   "execution_count": 141,
   "metadata": {
    "collapsed": true
   },
   "outputs": [],
   "source": [
    "def DMFT_loop(G0_initial_omega,U,frac_new):\n",
    "    G0_omega= G0_initial_omega\n",
    "    #print \"1/G0_initial = \", np.round(abs(1./G0_omega[::N/10]),2)\n",
    "    self_e = self_energy(G0_omega,U)\n",
    "    Gloc = Gloc_omega(self_e)\n",
    "    G0_omega = frac_new * 1./(1./Gloc+self_e+U/2.) + (1.-frac_new) * G0_omega\n",
    "    #print \"1/Gloc = \", np.round(abs(1./Gloc[::N/10]),2)\n",
    "    #print \"Sigma = \", np.round(abs(self_e[::N/10]),2)\n",
    "    #print \"1/G0_new = \", np.round(abs(1./G0_omega[::N/10]),2)\n",
    "    #print \"-----------------------------------------------------------------------------------\"\n",
    "    return G0_omega, Gloc"
   ]
  },
  {
   "cell_type": "code",
   "execution_count": 142,
   "metadata": {
    "collapsed": true
   },
   "outputs": [],
   "source": [
    "def get_gloc(a,U,iterations,frac_new):\n",
    "    G0 = 1. / ( 1j*freq + a )\n",
    "    #G0 = np.random.rand(freq.shape[0]) + 1j* np.random.rand(freq.shape[0])\n",
    "    #meanfreq = 10.\n",
    "    #std = 0.5\n",
    "    #G0 = 1./(np.sqrt(np.pi*2.)*std) * np.exp(-1./2*((freq-meanfreq)/(std))**2)\n",
    "    g_0 = G0\n",
    "    for i in range(iterations):\n",
    "        g_0, g_loc = DMFT_loop(g_0,U,frac_new)\n",
    "    return g_loc"
   ]
  },
  {
   "cell_type": "code",
   "execution_count": 143,
   "metadata": {
    "collapsed": false
   },
   "outputs": [],
   "source": [
    "def get_a_coeff(z_values, f_values): #z_values are the points at which we know the value of our function, f_values the values of our function at those points, z the point where we want to evaluate the continued fraction C_z;\n",
    "\n",
    "    N = z_values.size\n",
    "    \n",
    "    g_mat = np.zeros([N,N],dtype=np.complex256) #this is the matrix whose elements are: g_mat[i,j] = g_i(z_j), cfr eqn. (A2). Note that only diagonal and upper diagonal elements matter. The coefficients a_i will be found on the diagonal: a_i = g_mat[i,i];\n",
    "    #can be done diretly:\n",
    "    g_mat[0]=f_values\n",
    "    \n",
    "    for i in range(N-1): #filling the rest of the matrix using the recursion relation;\n",
    "        for j in range(N-(i+1)):\n",
    "            g_mat[i+1,i+1+j] = (g_mat[i,i]-g_mat[i,j+i+1])/((z_values[j+1+i]-z_values[i])*g_mat[i,j+i+1])\n",
    "    #also more effenciently:\n",
    "    return np.diag(g_mat)\n",
    "\n",
    "def C_z(a_coeff,z_values,z):\n",
    "    N = a_coeff.size\n",
    "    A = np.zeros(N+1,dtype=np.complex256)\n",
    "    B = np.zeros(N+1,dtype=np.complex256)\n",
    "    A[1] = a_coeff[0]\n",
    "    B[0] = 1\n",
    "    B[1] = 1\n",
    "    \n",
    "    for i in range(N-1):\n",
    "        A[i+2] = A[i+1] + (z-z_values[i])*a_coeff[i+1]*A[i]\n",
    "        B[i+2] = B[i+1] + (z-z_values[i])*a_coeff[i+1]*B[i]\n",
    "        #if(np.abs(A[i+2])>1e600 or np.abs(B[i+2])>1e600 ):\n",
    "            #print \"overflow\"\n",
    "\n",
    "    return A[N]/B[N]\n",
    "\n",
    "def analytic_continuation(freq,gloc,z):\n",
    "    a_coeff = get_a_coeff(freq, gloc)\n",
    "    f = lambda z: C_z(a_coeff,freq,z)\n",
    "    fvectorized = np.vectorize(f)\n",
    "    return fvectorized(z)"
   ]
  },
  {
   "cell_type": "code",
   "execution_count": 144,
   "metadata": {
    "collapsed": false
   },
   "outputs": [],
   "source": [
    "Gloc = get_gloc(2.,0,19,0.3)\n",
    "\n",
    "fit_freq = freq[::5]\n",
    "fit_Gloc = Gloc[::5]"
   ]
  },
  {
   "cell_type": "code",
   "execution_count": 145,
   "metadata": {
    "collapsed": false
   },
   "outputs": [],
   "source": [
    "fit_func = analytic_continuation(1j*fit_freq,fit_Gloc,1j*freq[::1])"
   ]
  },
  {
   "cell_type": "code",
   "execution_count": 146,
   "metadata": {
    "collapsed": false
   },
   "outputs": [
    {
     "data": {
      "text/plain": [
       "[<matplotlib.lines.Line2D at 0x10b85a690>]"
      ]
     },
     "execution_count": 146,
     "metadata": {},
     "output_type": "execute_result"
    },
    {
     "data": {
      "image/png": "[encoded data removed]",
      "text/plain": [
       "<matplotlib.figure.Figure at 0x10b85aa50>"
      ]
     },
     "metadata": {},
     "output_type": "display_data"
    }
   ],
   "source": [
    "plt.plot(freq, Gloc.imag,'+')\n",
    "plt.plot( freq[::1], fit_func.imag, 'o')"
   ]
  },
  {
   "cell_type": "code",
   "execution_count": 155,
   "metadata": {
    "collapsed": false
   },
   "outputs": [],
   "source": [
    "eta = 0.1\n",
    "real_freq = np.linspace(-4.,4.,1001)"
   ]
  },
  {
   "cell_type": "code",
   "execution_count": 156,
   "metadata": {
    "collapsed": false
   },
   "outputs": [
    {
     "data": {
      "image/png": "[encoded data removed]",
      "text/plain": [
       "<matplotlib.figure.Figure at 0x10b5a5150>"
      ]
     },
     "metadata": {},
     "output_type": "display_data"
    },
    {
     "data": {
      "image/png": "[encoded data removed]",
      "text/plain": [
       "<matplotlib.figure.Figure at 0x10c300c50>"
      ]
     },
     "metadata": {},
     "output_type": "display_data"
    },
    {
     "data": {
      "image/png": "[encoded data removed]",
      "text/plain": [
       "<matplotlib.figure.Figure at 0x10c265f90>"
      ]
     },
     "metadata": {},
     "output_type": "display_data"
    },
    {
     "data": {
      "image/png": "[encoded data removed]",
      "text/plain": [
       "<matplotlib.figure.Figure at 0x106e47250>"
      ]
     },
     "metadata": {},
     "output_type": "display_data"
    },
    {
     "data": {
      "text/plain": [
       "<matplotlib.figure.Figure at 0x106f76790>"
      ]
     },
     "metadata": {},
     "output_type": "display_data"
    }
   ],
   "source": [
    "step = 1\n",
    "for U in np.linspace(0.,1.,2):\n",
    "    Gloc = get_gloc(2.,U,9,0.3)\n",
    "    fit_Gloc = Gloc[::step]\n",
    "    fit_freq = freq[::step]\n",
    "    plt.plot(freq, Gloc.imag,'+')\n",
    "    fit_func = analytic_continuation(1j*fit_freq,fit_Gloc,1j*freq)\n",
    "    plt.plot( freq, fit_func.imag, 'o')\n",
    "    plt.figure()\n",
    "    spectral_func = analytic_continuation(1j*fit_freq,fit_Gloc,real_freq+1j*eta).imag\n",
    "    plt.plot(real_freq,-spectral_func,'-')\n",
    "    plt.title(\"U = {}\".format(U))\n",
    "    plt.figure()"
   ]
  },
  {
   "cell_type": "code",
   "execution_count": null,
   "metadata": {
    "collapsed": true
   },
   "outputs": [],
   "source": []
  },
  {
   "cell_type": "code",
   "execution_count": null,
   "metadata": {
    "collapsed": true
   },
   "outputs": [],
   "source": []
  }
 ],
 "metadata": {
  "kernelspec": {
   "display_name": "Python 2",
   "language": "python",
   "name": "python2"
  },
  "language_info": {
   "codemirror_mode": {
    "name": "ipython",
    "version": 2
   },
   "file_extension": ".py",
   "mimetype": "text/x-python",
   "name": "python",
   "nbconvert_exporter": "python",
   "pygments_lexer": "ipython2",
   "version": "2.7.10"
  }
 },
 "nbformat": 4,
 "nbformat_minor": 0
}
